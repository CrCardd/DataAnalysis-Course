{
 "cells": [
  {
   "cell_type": "markdown",
   "id": "b474a60f",
   "metadata": {},
   "source": [
    "# Read data"
   ]
  },
  {
   "cell_type": "code",
   "execution_count": 2,
   "id": "3fcad961",
   "metadata": {},
   "outputs": [],
   "source": [
    "from pyspark.sql import SparkSession\n",
    "\n",
    "spark = SparkSession.builder.getOrCreate()\n",
    "\n",
    "df = spark.read.csv(\"./cat_breeds.csv\", sep=\";\", header=True)"
   ]
  },
  {
   "cell_type": "markdown",
   "id": "01a13d7f",
   "metadata": {},
   "source": [
    "# Clean data"
   ]
  },
  {
   "cell_type": "code",
   "execution_count": 3,
   "id": "c8eb3532",
   "metadata": {},
   "outputs": [],
   "source": [
    "unnecessary_columns = [\n",
    "                        'Latitude', 'Longitude', 'Gender', 'Body_length', \n",
    "                        'Weight', 'Fur_colour_dominant', 'Fur_pattern', 'Eye_colour',\n",
    "                        'Allowed_outdoor', 'Preferred_food', 'Owner_play_time_minutes', 'Sleep_time_hours',\n",
    "                        'Country', 'Age_in_years'\n",
    "                    ]\n",
    "\n",
    "df = df.dropna()\n",
    "for uncol in unnecessary_columns:\n",
    "    df = df.drop(uncol)"
   ]
  },
  {
   "cell_type": "markdown",
   "id": "280d17b3",
   "metadata": {},
   "source": [
    "# Show"
   ]
  },
  {
   "cell_type": "code",
   "execution_count": 6,
   "id": "53454838",
   "metadata": {},
   "outputs": [
    {
     "name": "stdout",
     "output_type": "stream",
     "text": [
      "+------+-------------+------------------+\n",
      "| Breed|Age_in_months|Neutered_or_spayed|\n",
      "+------+-------------+------------------+\n",
      "|Angora|            3|             FALSE|\n",
      "|Angora|            4|             FALSE|\n",
      "|Angora|            6|             FALSE|\n",
      "|Angora|            6|             FALSE|\n",
      "|Angora|            6|             FALSE|\n",
      "|Angora|            6|             FALSE|\n",
      "|Angora|            7|             FALSE|\n",
      "|Angora|            7|             FALSE|\n",
      "|Angora|            7|             FALSE|\n",
      "|Angora|            8|             FALSE|\n",
      "|Angora|            8|             FALSE|\n",
      "|Angora|            8|              TRUE|\n",
      "|Angora|            9|              TRUE|\n",
      "|Angora|           13|             FALSE|\n",
      "|Angora|           16|              TRUE|\n",
      "|Angora|           10|             FALSE|\n",
      "|Angora|           17|              TRUE|\n",
      "|Angora|           11|              TRUE|\n",
      "|Angora|           12|             FALSE|\n",
      "|Angora|           12|              TRUE|\n",
      "+------+-------------+------------------+\n",
      "only showing top 20 rows\n",
      "\n"
     ]
    }
   ],
   "source": [
    "df.show()"
   ]
  },
  {
   "cell_type": "markdown",
   "id": "e03e7623",
   "metadata": {},
   "source": [
    "# Analysis"
   ]
  },
  {
   "cell_type": "code",
   "execution_count": 8,
   "id": "1d499df1",
   "metadata": {},
   "outputs": [
    {
     "ename": "PySparkValueError",
     "evalue": "[CANNOT_CONVERT_COLUMN_INTO_BOOL] Cannot convert column into bool: please use '&' for 'and', '|' for 'or', '~' for 'not' when building DataFrame boolean expressions.",
     "output_type": "error",
     "traceback": [
      "\u001b[31m---------------------------------------------------------------------------\u001b[39m",
      "\u001b[31mPySparkValueError\u001b[39m                         Traceback (most recent call last)",
      "\u001b[36mCell\u001b[39m\u001b[36m \u001b[39m\u001b[32mIn[8]\u001b[39m\u001b[32m, line 1\u001b[39m\n\u001b[32m----> \u001b[39m\u001b[32m1\u001b[39m df_ = df.withColumn(\u001b[33m'\u001b[39m\u001b[33mNeutered_or_spayed\u001b[39m\u001b[33m'\u001b[39m, \u001b[38;5;129;43;01mnot\u001b[39;49;00m\u001b[43m \u001b[49m\u001b[43mdf\u001b[49m\u001b[43m[\u001b[49m\u001b[33;43m'\u001b[39;49m\u001b[33;43mNeutered_or_spayed\u001b[39;49m\u001b[33;43m'\u001b[39;49m\u001b[43m]\u001b[49m)\n",
      "\u001b[36mFile \u001b[39m\u001b[32mc:\\Users\\cca1ct\\AppData\\Local\\Programs\\Python\\Python312\\Lib\\site-packages\\pyspark\\sql\\column.py:1400\u001b[39m, in \u001b[36mColumn.__nonzero__\u001b[39m\u001b[34m(self)\u001b[39m\n\u001b[32m   1399\u001b[39m \u001b[38;5;28;01mdef\u001b[39;00m\u001b[38;5;250m \u001b[39m\u001b[34m__nonzero__\u001b[39m(\u001b[38;5;28mself\u001b[39m) -> \u001b[38;5;28;01mNone\u001b[39;00m:\n\u001b[32m-> \u001b[39m\u001b[32m1400\u001b[39m     \u001b[38;5;28;01mraise\u001b[39;00m PySparkValueError(\n\u001b[32m   1401\u001b[39m         error_class=\u001b[33m\"\u001b[39m\u001b[33mCANNOT_CONVERT_COLUMN_INTO_BOOL\u001b[39m\u001b[33m\"\u001b[39m,\n\u001b[32m   1402\u001b[39m         message_parameters={},\n\u001b[32m   1403\u001b[39m     )\n",
      "\u001b[31mPySparkValueError\u001b[39m: [CANNOT_CONVERT_COLUMN_INTO_BOOL] Cannot convert column into bool: please use '&' for 'and', '|' for 'or', '~' for 'not' when building DataFrame boolean expressions."
     ]
    }
   ],
   "source": [
    "df_ = df.withColumn('Neutered_or_spayed', not df['Neutered_or_spayed'])"
   ]
  },
  {
   "cell_type": "markdown",
   "id": "5e945e94",
   "metadata": {},
   "source": [
    "# Show final data"
   ]
  },
  {
   "cell_type": "code",
   "execution_count": 7,
   "id": "bfff5961",
   "metadata": {},
   "outputs": [
    {
     "ename": "NameError",
     "evalue": "name 'df_' is not defined",
     "output_type": "error",
     "traceback": [
      "\u001b[31m---------------------------------------------------------------------------\u001b[39m",
      "\u001b[31mNameError\u001b[39m                                 Traceback (most recent call last)",
      "\u001b[36mCell\u001b[39m\u001b[36m \u001b[39m\u001b[32mIn[7]\u001b[39m\u001b[32m, line 1\u001b[39m\n\u001b[32m----> \u001b[39m\u001b[32m1\u001b[39m \u001b[43mdf_\u001b[49m.show()\n",
      "\u001b[31mNameError\u001b[39m: name 'df_' is not defined"
     ]
    }
   ],
   "source": [
    "df_.show()"
   ]
  }
 ],
 "metadata": {
  "kernelspec": {
   "display_name": "Python 3",
   "language": "python",
   "name": "python3"
  },
  "language_info": {
   "codemirror_mode": {
    "name": "ipython",
    "version": 3
   },
   "file_extension": ".py",
   "mimetype": "text/x-python",
   "name": "python",
   "nbconvert_exporter": "python",
   "pygments_lexer": "ipython3",
   "version": "3.12.10"
  }
 },
 "nbformat": 4,
 "nbformat_minor": 5
}
